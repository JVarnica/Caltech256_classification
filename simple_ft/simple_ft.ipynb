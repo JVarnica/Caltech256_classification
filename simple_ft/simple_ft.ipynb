{
 "cells": [
  {
   "cell_type": "code",
   "execution_count": 3,
   "metadata": {},
   "outputs": [
    {
     "name": "stdout",
     "output_type": "stream",
     "text": [
      "Startign unittest main\n",
      ".2024-09-22 23:23:12,108 - INFO - Saved optimal results/model for stage0\n",
      ".2024-09-22 23:23:12,385 - INFO - test_model results saved!!\n",
      "...\n",
      "----------------------------------------------------------------------\n",
      "Ran 5 tests in 3.802s\n",
      "\n",
      "OK\n"
     ]
    }
   ],
   "source": [
    "!python /Users/julienvarnica/Documents/JuJu/LEARN/caltech_proj/tests/ft_unit_tests.py"
   ]
  }
 ],
 "metadata": {
  "kernelspec": {
   "display_name": "Deep_Env",
   "language": "python",
   "name": "python3"
  },
  "language_info": {
   "codemirror_mode": {
    "name": "ipython",
    "version": 3
   },
   "file_extension": ".py",
   "mimetype": "text/x-python",
   "name": "python",
   "nbconvert_exporter": "python",
   "pygments_lexer": "ipython3",
   "version": "3.11.5"
  }
 },
 "nbformat": 4,
 "nbformat_minor": 2
}
