{
 "cells": [
  {
   "cell_type": "code",
   "execution_count": 1,
   "metadata": {},
   "outputs": [
    {
     "name": "stdout",
     "output_type": "stream",
     "text": [
      "Startign unittest main\n",
      ".2024-09-20 20:42:31,078 - INFO - Saved optimal results/model for stage0\n",
      ".2024-09-20 20:42:31,317 - INFO - test_model results saved!!\n",
      "...\n",
      "----------------------------------------------------------------------\n",
      "Ran 5 tests in 3.991s\n",
      "\n",
      "OK\n"
     ]
    }
   ],
   "source": [
    "!python /Users/julienvarnica/Documents/JuJu/LEARN/caltech_proj/simple_ft/ft_unit_tests.py"
   ]
  }
 ],
 "metadata": {
  "kernelspec": {
   "display_name": "Deep_Env",
   "language": "python",
   "name": "python3"
  },
  "language_info": {
   "codemirror_mode": {
    "name": "ipython",
    "version": 3
   },
   "file_extension": ".py",
   "mimetype": "text/x-python",
   "name": "python",
   "nbconvert_exporter": "python",
   "pygments_lexer": "ipython3",
   "version": "3.11.5"
  }
 },
 "nbformat": 4,
 "nbformat_minor": 2
}
