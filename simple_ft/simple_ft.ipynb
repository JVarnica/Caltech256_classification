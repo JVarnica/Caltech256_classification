{
 "cells": [
  {
   "cell_type": "code",
   "execution_count": 13,
   "metadata": {},
   "outputs": [
    {
     "name": "stdout",
     "output_type": "stream",
     "text": [
      "Traceback (most recent call last):\n",
      "  File \"/Users/julienvarnica/Documents/JuJu/LEARN/caltech_proj/simple_ft/ft_unit_tests.py\", line 7, in <module>\n",
      "    from simple_ft import train_epoch, validate, handle_new_stage, save_results, get_exp_config\n",
      "  File \"/Users/julienvarnica/Documents/JuJu/LEARN/caltech_proj/simple_ft/simple_ft.py\", line 13, in <module>\n",
      "    from linear_probe.model_eval import get_dali_loader\n",
      "  File \"/Users/julienvarnica/Documents/JuJu/LEARN/caltech_proj/linear_probe/model_eval.py\", line 11, in <module>\n",
      "    from nvidia.dali import pipeline_def\n",
      "ModuleNotFoundError: No module named 'nvidia'\n"
     ]
    }
   ],
   "source": [
    "!python /Users/julienvarnica/Documents/JuJu/LEARN/caltech_proj/simple_ft/ft_unit_tests.py"
   ]
  }
 ],
 "metadata": {
  "kernelspec": {
   "display_name": "Deep_Env",
   "language": "python",
   "name": "python3"
  },
  "language_info": {
   "codemirror_mode": {
    "name": "ipython",
    "version": 3
   },
   "file_extension": ".py",
   "mimetype": "text/x-python",
   "name": "python",
   "nbconvert_exporter": "python",
   "pygments_lexer": "ipython3",
   "version": "3.11.5"
  }
 },
 "nbformat": 4,
 "nbformat_minor": 2
}
